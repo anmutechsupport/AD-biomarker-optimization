{
  "nbformat": 4,
  "nbformat_minor": 0,
  "metadata": {
    "colab": {
      "provenance": [],
      "include_colab_link": true
    },
    "kernelspec": {
      "name": "python3",
      "display_name": "Python 3"
    },
    "language_info": {
      "name": "python"
    }
  },
  "cells": [
    {
      "cell_type": "markdown",
      "metadata": {
        "id": "view-in-github",
        "colab_type": "text"
      },
      "source": [
        "<a href=\"https://colab.research.google.com/github/anmutechsupport/AD-biomarker-optimization/blob/main/BOED.ipynb\" target=\"_parent\"><img src=\"https://colab.research.google.com/assets/colab-badge.svg\" alt=\"Open In Colab\"/></a>"
      ]
    },
    {
      "cell_type": "code",
      "metadata": {
        "colab": {
          "base_uri": "https://localhost:8080/"
        },
        "id": "x6ui8l67Q81D",
        "outputId": "a25d8eb9-a6c3-4428-e788-bd58c41dd1b7"
      },
      "source": [
        "pip install adopy"
      ],
      "execution_count": null,
      "outputs": [
        {
          "output_type": "stream",
          "text": [
            "Collecting adopy\n",
            "  Downloading adopy-0.4.0-py3-none-any.whl (33 kB)\n",
            "Requirement already satisfied: importlib_metadata in /usr/local/lib/python3.7/dist-packages (from adopy) (4.6.1)\n",
            "Requirement already satisfied: numpy in /usr/local/lib/python3.7/dist-packages (from adopy) (1.19.5)\n",
            "Requirement already satisfied: pandas in /usr/local/lib/python3.7/dist-packages (from adopy) (1.1.5)\n",
            "Requirement already satisfied: scipy>=1.0.0 in /usr/local/lib/python3.7/dist-packages (from adopy) (1.4.1)\n",
            "Requirement already satisfied: typing-extensions>=3.6.4 in /usr/local/lib/python3.7/dist-packages (from importlib_metadata->adopy) (3.7.4.3)\n",
            "Requirement already satisfied: zipp>=0.5 in /usr/local/lib/python3.7/dist-packages (from importlib_metadata->adopy) (3.5.0)\n",
            "Requirement already satisfied: pytz>=2017.2 in /usr/local/lib/python3.7/dist-packages (from pandas->adopy) (2018.9)\n",
            "Requirement already satisfied: python-dateutil>=2.7.3 in /usr/local/lib/python3.7/dist-packages (from pandas->adopy) (2.8.1)\n",
            "Requirement already satisfied: six>=1.5 in /usr/local/lib/python3.7/dist-packages (from python-dateutil>=2.7.3->pandas->adopy) (1.15.0)\n",
            "Installing collected packages: adopy\n",
            "Successfully installed adopy-0.4.0\n"
          ],
          "name": "stdout"
        }
      ]
    },
    {
      "cell_type": "code",
      "metadata": {
        "id": "FxoSLKeAnnxV"
      },
      "source": [
        "import numpy as np\n",
        "from tqdm import tqdm \n",
        "import scipy\n",
        "from scipy.stats import truncnorm"
      ],
      "execution_count": null,
      "outputs": []
    },
    {
      "cell_type": "code",
      "metadata": {
        "id": "s3qpTia6Y_wE"
      },
      "source": [
        "from adopy import Task\n",
        "\n",
        "task = Task(name='My New Experiment',  # Name of the task (optional)\n",
        "            designs = ['x1', 'x2'],    # Labels of design variables\n",
        "            responses = ['choice'])    # Labels of response variables"
      ],
      "execution_count": null,
      "outputs": []
    },
    {
      "cell_type": "code",
      "metadata": {
        "id": "6pXFiG9ab7j5"
      },
      "source": [
        "import numpy as np\n",
        "from scipy.stats import bernoulli\n",
        "\n",
        "def calculate_loglik(x1, x2, b0, b1, b2, choice):\n",
        "    \"\"\"A function to compute the probability of a positive response.\"\"\"\n",
        "    logit = b0 + x1 * b1 + x2 * b2\n",
        "    p_obs = 1. / (1 + np.exp(-logit))\n",
        "\n",
        "    return bernoulli.logpmf(choice, p_obs)"
      ],
      "execution_count": null,
      "outputs": []
    },
    {
      "cell_type": "code",
      "metadata": {
        "id": "3WxnA3wDBIFn"
      },
      "source": [
        "def get_simulated_response(model, design, choice):\n",
        "  # Probability to choose the LL option\n",
        "  logmf = model.compute(design['x1'], design['x2'], -3, 2, 3, choice)\n",
        "  # Compute a random binary choice\n",
        "  return logmf"
      ],
      "execution_count": null,
      "outputs": []
    },
    {
      "cell_type": "code",
      "metadata": {
        "id": "qlzn9bw-mk6R"
      },
      "source": [
        "def get_truncated_normal(mean=0.5, sd=0.5, low=0, upp=1):\n",
        "    return truncnorm((low - mean) / sd, (upp - mean) / sd, loc=mean, scale=sd)"
      ],
      "execution_count": null,
      "outputs": []
    },
    {
      "cell_type": "code",
      "metadata": {
        "id": "nCp_axGPb-i3"
      },
      "source": [
        "from adopy import Model\n",
        "\n",
        "model = Model(name='My Logistic Model',   # Name of the model (optional)\n",
        "              params=['b0', 'b1', 'b2'],  # Labels of model parameters\n",
        "              func=calculate_loglik,\n",
        "              task=task)      # A log likelihood function"
      ],
      "execution_count": null,
      "outputs": []
    },
    {
      "cell_type": "code",
      "metadata": {
        "id": "pQvGUHtkcToz"
      },
      "source": [
        "import numpy as np\n",
        "\n",
        "grid_design = {\n",
        "    'x1': np.linspace(0, 50, 20),    # 100 grid points within [0, 50]\n",
        "    'x2': np.linspace(-20, 30, 20),  # 100 grid points within [-20, 30]\n",
        "}\n",
        "\n",
        "grid_param = {\n",
        "    'b0': np.linspace(-5, 5, 20),  # 100 grid points within [-5, 5]\n",
        "    'b1': np.linspace(-5, 5, 20),  # 100 grid points within [-5, 5]\n",
        "    'b2': np.linspace(-5, 5, 20),  # 100 grid points within [-5, 5]\n",
        "}\n",
        "\n",
        "grid_response = {\n",
        "    'choice': [0, 1]  # Binary choice\n",
        "}"
      ],
      "execution_count": null,
      "outputs": []
    },
    {
      "cell_type": "code",
      "metadata": {
        "id": "1Bv0yZPDcYly"
      },
      "source": [
        "from adopy import Engine\n",
        "\n",
        "engine = Engine(model=model,                  # Model object\n",
        "                task=task,                    # Task object\n",
        "                grid_design=grid_design,      # grid for design variables\n",
        "                grid_param=grid_param,        # grid for model parameters\n",
        "                grid_response=grid_response)  # grid for response variables"
      ],
      "execution_count": null,
      "outputs": []
    },
    {
      "cell_type": "code",
      "metadata": {
        "id": "tjADOfGCclwO"
      },
      "source": [
        "# Compute an optimal design based on the ADO\n",
        "design = engine.get_design()\n",
        "design = engine.get_design('optimal')\n",
        "\n",
        "# Compute a randomly chosen design, as is typically done in non-ADO experiments\n",
        "rand_design = engine.get_design('random')"
      ],
      "execution_count": null,
      "outputs": []
    },
    {
      "cell_type": "code",
      "metadata": {
        "id": "_p7EqdA2cvmP"
      },
      "source": [
        "# Get a response from a participant using your own code\n",
        "response = 1"
      ],
      "execution_count": null,
      "outputs": []
    },
    {
      "cell_type": "code",
      "metadata": {
        "colab": {
          "base_uri": "https://localhost:8080/"
        },
        "id": "8Q3tSYvacwSL",
        "outputId": "15d628bb-e96c-4c17-abd3-2b956b330179"
      },
      "source": [
        "# Update the engine with the design and the corresponding response\n",
        "engine.update(design, response)\n",
        "print(engine.get_design('optimal'))"
      ],
      "execution_count": null,
      "outputs": [
        {
          "output_type": "stream",
          "text": [
            "{'x1': 0.0, 'x2': 30.0}\n"
          ],
          "name": "stdout"
        }
      ]
    },
    {
      "cell_type": "code",
      "metadata": {
        "colab": {
          "base_uri": "https://localhost:8080/"
        },
        "id": "z41MLfSl4XjD",
        "outputId": "7e2c634c-5475-44cc-9cd3-2d1b8d43b32f"
      },
      "source": [
        "engine.reset()\n",
        "NUM_TRIAL = 4 # number of trials\n",
        "patients = [{'biomarkers': {'x1': np.random.uniform(0, 50), 'x2': np.random.uniform(-20, 30)}} for x in range(10)]\n",
        "interim = 16\n",
        "\n",
        "print(len(patients))\n",
        "\n",
        "for analysis in tqdm(range(NUM_TRIAL*interim)):\n",
        "\n",
        "    opt_design = engine.get_design()\n",
        "    print(opt_design)\n",
        "\n",
        "    for patient in patients:\n",
        "      # Compute an optimal design for the current trial\n",
        "\n",
        "      # Get a response using the optimal design\n",
        "      # patient['response'] = get_simulated_response(model, opt_design, engine.grid_response['choice'])  # Using users' own codes\n",
        "      patient['response'] = get_truncated_normal().rvs()  # Using users' own codes\n",
        "      # print(patient['response'])\n",
        "\n",
        "    bio_pos = []\n",
        "    bio_neg = []\n",
        "    for patient in patients:\n",
        "      if patient[\"biomarkers\"]['x1']+patient[\"biomarkers\"]['x2']>opt_design['x1']+opt_design['x2']:\n",
        "        bio_pos.append(patient['response'])\n",
        "      else:\n",
        "        bio_neg.append(patient['response'])\n",
        "\n",
        "    statistic, p_value = scipy.stats.ttest_ind(bio_pos, bio_neg)\n",
        "    print(bio_neg)\n",
        "    print(bio_pos)\n",
        "    print(p_value)\n",
        "\n",
        "    if p_value<0.05:\n",
        "      break\n",
        "    \n",
        "    engine.update(opt_design, p_value) #change these to have design variables and p-value response\n",
        "  \n",
        "\n"
      ],
      "execution_count": null,
      "outputs": [
        {
          "output_type": "stream",
          "text": [
            "\r  0%|          | 0/64 [00:00<?, ?it/s]"
          ],
          "name": "stderr"
        },
        {
          "output_type": "stream",
          "text": [
            "10\n",
            "{'x1': 50.0, 'x2': 1.0526316165924072}\n",
            "[0.48770884725302693, 0.22402725390551997, 0.047400163156691655, 0.521670176772097, 0.752699822941564, 0.005197402138639229, 0.6671034713586377, 0.7726145114135028, 0.2988054149480933]\n",
            "[0.9999185423744235]\n",
            "nan\n"
          ],
          "name": "stdout"
        },
        {
          "output_type": "stream",
          "text": [
            "/usr/local/lib/python3.7/dist-packages/numpy/core/fromnumeric.py:3622: RuntimeWarning: Degrees of freedom <= 0 for slice\n",
            "  **kwargs)\n",
            "/usr/local/lib/python3.7/dist-packages/numpy/core/_methods.py:226: RuntimeWarning: invalid value encountered in double_scalars\n",
            "  ret = ret.dtype.type(ret / rcount)\n",
            "  2%|▏         | 1/64 [00:00<00:33,  1.89it/s]"
          ],
          "name": "stderr"
        },
        {
          "output_type": "stream",
          "text": [
            "{'x1': 0.0, 'x2': 30.0}\n",
            "[0.030936466504779603, 0.870070966346757, 0.7346562198986626, 0.2673104992420747, 0.17619528565390874, 0.538751618087588]\n",
            "[0.806180327202136, 0.414973049776653, 0.13363607054602272, 0.17767745942295238]\n",
            "0.8047966723609279\n"
          ],
          "name": "stdout"
        },
        {
          "output_type": "stream",
          "text": [
            "\r  3%|▎         | 2/64 [00:01<00:32,  1.90it/s]"
          ],
          "name": "stderr"
        },
        {
          "output_type": "stream",
          "text": [
            "{'x1': 31.578947067260742, 'x2': 30.0}\n",
            "[0.14057693981296038, 0.040197469418390364, 0.342808180064182, 0.8282483440726145, 0.40338757020547933, 0.8683449584389186, 0.652275909599317, 0.5894588111673736, 0.9916774383510971]\n",
            "[0.27803168354508123]\n",
            "nan\n"
          ],
          "name": "stdout"
        },
        {
          "output_type": "stream",
          "text": [
            "\r  5%|▍         | 3/64 [00:01<00:31,  1.91it/s]"
          ],
          "name": "stderr"
        },
        {
          "output_type": "stream",
          "text": [
            "{'x1': 15.789473533630371, 'x2': 30.0}\n",
            "[0.6395434951040146, 0.26888070910002115, 0.797420464283968, 0.870435230412747, 0.15027656589390698, 0.9467239707763251, 0.21540982048622548, 0.81501578581948, 0.7739346270886114]\n",
            "[0.8871757239888949]\n",
            "nan\n"
          ],
          "name": "stdout"
        },
        {
          "output_type": "stream",
          "text": [
            "\r  6%|▋         | 4/64 [00:02<00:31,  1.92it/s]"
          ],
          "name": "stderr"
        },
        {
          "output_type": "stream",
          "text": [
            "{'x1': 7.8947367668151855, 'x2': 30.0}\n",
            "[0.5265999920584865, 0.3032122714291918, 0.9477099402069474, 0.7990095676953808, 0.7970304104035841, 0.33769321457921264, 0.37140783969675917, 0.22586478597499804, 0.9707085565831113]\n",
            "[0.5672262350983536]\n",
            "nan\n"
          ],
          "name": "stdout"
        },
        {
          "output_type": "stream",
          "text": [
            "\r  8%|▊         | 5/64 [00:02<00:30,  1.92it/s]"
          ],
          "name": "stderr"
        },
        {
          "output_type": "stream",
          "text": [
            "{'x1': 2.6315789222717285, 'x2': 24.736841201782227}\n",
            "[0.4959553981105315, 0.347168833506595, 0.41932098235139414, 0.7475440150141667]\n",
            "[0.9882032759973693, 0.5853554481896175, 0.28013124172838866, 0.40603182622889844, 0.5576451960617163, 0.32054456080541627]\n",
            "0.8940351958560049\n"
          ],
          "name": "stdout"
        },
        {
          "output_type": "stream",
          "text": [
            "\r  9%|▉         | 6/64 [00:03<00:30,  1.92it/s]"
          ],
          "name": "stderr"
        },
        {
          "output_type": "stream",
          "text": [
            "{'x1': 5.263157844543457, 'x2': 30.0}\n",
            "[0.2737864513790761, 0.6778724275757687, 0.13908103376899772, 0.43920270088091395, 0.8995642186762351, 0.787112474650975, 0.25625859442395604, 0.39391601571476215]\n",
            "[0.8435496383848554, 0.2782907125193459]\n",
            "0.7463732689296765\n"
          ],
          "name": "stdout"
        },
        {
          "output_type": "stream",
          "text": [
            "\r 11%|█         | 7/64 [00:03<00:29,  1.90it/s]"
          ],
          "name": "stderr"
        },
        {
          "output_type": "stream",
          "text": [
            "{'x1': 0.0, 'x2': -1.5789474248886108}\n",
            "[0.7355430524427681]\n",
            "[0.341362449672865, 0.8813374235814833, 0.7123580377155196, 0.07092141670128255, 0.3376002145831086, 0.1733347953710132, 0.7793334658214985, 0.42691858982337066, 0.8547647605173305]\n",
            "nan\n"
          ],
          "name": "stdout"
        },
        {
          "output_type": "stream",
          "text": [
            "\r 12%|█▎        | 8/64 [00:04<00:29,  1.87it/s]"
          ],
          "name": "stderr"
        },
        {
          "output_type": "stream",
          "text": [
            "{'x1': 5.263157844543457, 'x2': 24.736841201782227}\n",
            "[0.6157160831581016, 0.5792652904464496, 0.4703157440229626, 0.939150524168233, 0.22074459784535494, 0.3928937933985352]\n",
            "[0.14003562967942967, 0.03050066614072111, 0.673309104566521, 0.16448335030360595]\n",
            "0.12903209113639433\n"
          ],
          "name": "stdout"
        },
        {
          "output_type": "stream",
          "text": [
            "\r 14%|█▍        | 9/64 [00:04<00:30,  1.80it/s]"
          ],
          "name": "stderr"
        },
        {
          "output_type": "stream",
          "text": [
            "{'x1': 0.0, 'x2': 1.0526316165924072}\n",
            "[0.6768422929279521]\n",
            "[0.9326212370335746, 0.7107581096139495, 0.21573981702119382, 0.284243504421973, 0.4653783916370741, 0.2846768520701398, 0.14086276524734864, 0.8058862576726524, 0.4898773234612007]\n",
            "nan\n"
          ],
          "name": "stdout"
        },
        {
          "output_type": "stream",
          "text": [
            "\r 16%|█▌        | 10/64 [00:05<00:31,  1.74it/s]"
          ],
          "name": "stderr"
        },
        {
          "output_type": "stream",
          "text": [
            "{'x1': 5.263157844543457, 'x2': 27.36842155456543}\n",
            "[0.06754562989444507, 0.18691104967536343, 0.5003524255675466, 0.47583642728321546, 0.6242509072808397, 0.15747119023605782, 0.9620971307492946]\n",
            "[0.6405826597690314, 0.30995389804010876, 0.23243703623020207]\n",
            "0.883425535869295\n"
          ],
          "name": "stdout"
        },
        {
          "output_type": "stream",
          "text": [
            "\r 17%|█▋        | 11/64 [00:06<00:31,  1.69it/s]"
          ],
          "name": "stderr"
        },
        {
          "output_type": "stream",
          "text": [
            "{'x1': 0.0, 'x2': 3.6842105388641357}\n",
            "[0.30632356438826636]\n",
            "[0.18388411293869728, 0.5411363900982673, 0.01050864219197617, 0.7798704190590214, 0.17550826617385168, 0.8581394731673317, 0.3559987783301493, 0.45192839360416376, 0.4107478305152106]\n",
            "nan\n"
          ],
          "name": "stdout"
        },
        {
          "output_type": "stream",
          "text": [
            "\r 19%|█▉        | 12/64 [00:06<00:31,  1.65it/s]"
          ],
          "name": "stderr"
        },
        {
          "output_type": "stream",
          "text": [
            "{'x1': 0.0, 'x2': 8.947368621826172}\n",
            "[0.0181155381679306]\n",
            "[0.906571104067591, 0.8611887557251148, 0.6003108346997961, 0.23085715363963616, 0.5056881561409956, 0.3095227199605036, 0.23026236074671735, 0.8850415502205905, 0.9838495920297614]\n",
            "nan\n"
          ],
          "name": "stdout"
        },
        {
          "output_type": "stream",
          "text": [
            "\r 20%|██        | 13/64 [00:07<00:31,  1.61it/s]"
          ],
          "name": "stderr"
        },
        {
          "output_type": "stream",
          "text": [
            "{'x1': 0.0, 'x2': 11.578947067260742}\n",
            "[0.7583289079045145]\n",
            "[0.18723377449030787, 0.4845318082564897, 0.2922254699737211, 0.6481747095996502, 0.9195975580553417, 0.9386218806835397, 0.11080933237225438, 0.4714311206184942, 0.20488506080644064]\n",
            "nan\n"
          ],
          "name": "stdout"
        },
        {
          "output_type": "stream",
          "text": [
            "\r 22%|██▏       | 14/64 [00:07<00:31,  1.60it/s]"
          ],
          "name": "stderr"
        },
        {
          "output_type": "stream",
          "text": [
            "{'x1': 10.526315689086914, 'x2': 30.0}\n",
            "[0.4003637688072443, 0.8691909770141829, 0.9128561737387033, 0.3773765955747549, 0.09489242073068177, 0.3277440583741037, 0.8551460205026078, 0.09277331663944427, 0.8692268800392056]\n",
            "[0.25736255889602605]\n",
            "nan\n"
          ],
          "name": "stdout"
        },
        {
          "output_type": "stream",
          "text": [
            "\r 23%|██▎       | 15/64 [00:08<00:30,  1.63it/s]"
          ],
          "name": "stderr"
        },
        {
          "output_type": "stream",
          "text": [
            "{'x1': 10.526315689086914, 'x2': 30.0}\n",
            "[0.6562701848120266, 0.4603627029246489, 0.1749992119160811, 0.2557141108586492, 0.7487057357031481, 0.31341420977461637, 0.9911986933116145, 0.3546441148636438, 0.956559147562884]\n",
            "[0.6274534349299209]\n",
            "nan\n"
          ],
          "name": "stdout"
        },
        {
          "output_type": "stream",
          "text": [
            "\r 25%|██▌       | 16/64 [00:09<00:28,  1.67it/s]"
          ],
          "name": "stderr"
        },
        {
          "output_type": "stream",
          "text": [
            "{'x1': 7.8947367668151855, 'x2': 30.0}\n",
            "[0.6496986372898174, 0.5966472695921359, 0.45074814201861163, 0.2786378768008476, 0.33729967665286764, 0.3280622064625276, 0.9815410449087607, 0.20247669631853532, 0.44797847128940566]\n",
            "[0.10374212722058868]\n",
            "nan\n"
          ],
          "name": "stdout"
        },
        {
          "output_type": "stream",
          "text": [
            "\r 27%|██▋       | 17/64 [00:09<00:27,  1.70it/s]"
          ],
          "name": "stderr"
        },
        {
          "output_type": "stream",
          "text": [
            "{'x1': 0.0, 'x2': 11.578947067260742}\n",
            "[0.2516161762705631]\n",
            "[0.3872018190220775, 0.729319031686487, 0.5581558584579569, 0.40998198343721326, 0.6390662468166077, 0.073855596186647, 0.26144357651396277, 0.7517680243642961, 0.7433900551293962]\n",
            "nan\n"
          ],
          "name": "stdout"
        },
        {
          "output_type": "stream",
          "text": [
            "\r 28%|██▊       | 18/64 [00:10<00:26,  1.72it/s]"
          ],
          "name": "stderr"
        },
        {
          "output_type": "stream",
          "text": [
            "{'x1': 5.263157844543457, 'x2': 30.0}\n",
            "[0.09721615724862731, 0.11640246516838998, 0.5157365063564707, 0.5072764803114593, 0.5864300504143543, 0.7871102768510008, 0.26117076247280774, 0.36503299582662224]\n",
            "[0.6238968749981963, 0.2037901590640463]\n",
            "0.9632749883174483\n"
          ],
          "name": "stdout"
        },
        {
          "output_type": "stream",
          "text": [
            "\r 30%|██▉       | 19/64 [00:10<00:26,  1.69it/s]"
          ],
          "name": "stderr"
        },
        {
          "output_type": "stream",
          "text": [
            "{'x1': 10.526315689086914, 'x2': 30.0}\n",
            "[0.5895746095801546, 0.6833601046474418, 0.3990403737407862, 0.19948602285807304, 0.04477470906807601, 0.0666668419024235, 0.38893579085898256, 0.7685647394653022, 0.5149100374670821]\n",
            "[0.5599546564028578]\n",
            "nan\n"
          ],
          "name": "stdout"
        },
        {
          "output_type": "stream",
          "text": [
            "\r 31%|███▏      | 20/64 [00:11<00:26,  1.69it/s]"
          ],
          "name": "stderr"
        },
        {
          "output_type": "stream",
          "text": [
            "{'x1': 0.0, 'x2': 14.210526466369629}\n",
            "[0.6652302753235956]\n",
            "[0.742492735756904, 0.02736836337677867, 0.7404167961646233, 0.48712358887951374, 0.27919462489808766, 0.3022385929098944, 0.6238732651746742, 0.7806469928215649, 0.8075160181686212]\n",
            "nan\n"
          ],
          "name": "stdout"
        },
        {
          "output_type": "stream",
          "text": [
            "\r 33%|███▎      | 21/64 [00:12<00:25,  1.69it/s]"
          ],
          "name": "stderr"
        },
        {
          "output_type": "stream",
          "text": [
            "{'x1': 7.8947367668151855, 'x2': 30.0}\n",
            "[0.9259586540954768, 0.32281175635021575, 0.9348755988171832, 0.8927793606619238, 0.4802696926280474, 0.7324525610051706, 0.8976157348524555, 0.6281078711433928, 0.28185026597160423]\n",
            "[0.9379459853364132]\n",
            "nan\n"
          ],
          "name": "stdout"
        },
        {
          "output_type": "stream",
          "text": [
            "\r 34%|███▍      | 22/64 [00:12<00:24,  1.69it/s]"
          ],
          "name": "stderr"
        },
        {
          "output_type": "stream",
          "text": [
            "{'x1': 5.263157844543457, 'x2': 30.0}\n",
            "[0.2415361854092477, 0.8090528402529839, 0.33521388510479455, 0.1643656261881048, 0.9167174842790184, 0.7305813188632866, 0.7630970640865072, 0.32061522673667187]\n",
            "[0.1018948924886699, 0.31999949337950473]\n",
            "0.18643907300522194\n"
          ],
          "name": "stdout"
        },
        {
          "output_type": "stream",
          "text": [
            "\r 36%|███▌      | 23/64 [00:13<00:24,  1.69it/s]"
          ],
          "name": "stderr"
        },
        {
          "output_type": "stream",
          "text": [
            "{'x1': 5.263157844543457, 'x2': 30.0}\n",
            "[0.7192125387588308, 0.018812435082864787, 0.7052159539583391, 0.7719433585204178, 0.3323314531612266, 0.6035014212929388, 0.37431747657040715, 0.34762356662234095]\n",
            "[0.8047162078013068, 0.7289175612324748]\n",
            "0.18015766806485659\n"
          ],
          "name": "stdout"
        },
        {
          "output_type": "stream",
          "text": [
            "\r 38%|███▊      | 24/64 [00:13<00:23,  1.69it/s]"
          ],
          "name": "stderr"
        },
        {
          "output_type": "stream",
          "text": [
            "{'x1': 0.0, 'x2': 14.210526466369629}\n",
            "[0.6805070545469694]\n",
            "[0.8695803042824873, 0.35093760814272423, 0.7634370355883007, 0.38592456317380097, 0.350324254435334, 0.3346060489764525, 0.6010644070842849, 0.23527121589001015, 0.6420984430080492]\n",
            "nan\n"
          ],
          "name": "stdout"
        },
        {
          "output_type": "stream",
          "text": [
            "\r 39%|███▉      | 25/64 [00:14<00:23,  1.70it/s]"
          ],
          "name": "stderr"
        },
        {
          "output_type": "stream",
          "text": [
            "{'x1': 5.263157844543457, 'x2': 30.0}\n",
            "[0.2955035964210538, 0.09867551841122746, 0.5253609067832807, 0.20570162050875734, 0.6051921692636414, 0.849673293404795, 0.35746304666506756, 0.04313925719212619]\n",
            "[0.8969232521951562, 0.5103461899814872]\n",
            "0.16395987728246736\n"
          ],
          "name": "stdout"
        },
        {
          "output_type": "stream",
          "text": [
            "\r 41%|████      | 26/64 [00:15<00:22,  1.70it/s]"
          ],
          "name": "stderr"
        },
        {
          "output_type": "stream",
          "text": [
            "{'x1': 0.0, 'x2': 16.842105865478516}\n",
            "[0.4846553089108641]\n",
            "[0.5925288071212336, 0.2995856163634737, 0.04913861716457674, 0.2810321957259263, 0.3829905647796563, 0.03251074829419365, 0.4538180886342126, 0.6473544623403227, 0.34242022944170214]\n",
            "nan\n"
          ],
          "name": "stdout"
        },
        {
          "output_type": "stream",
          "text": [
            "\r 42%|████▏     | 27/64 [00:15<00:21,  1.70it/s]"
          ],
          "name": "stderr"
        },
        {
          "output_type": "stream",
          "text": [
            "{'x1': 0.0, 'x2': 16.842105865478516}\n",
            "[0.5014065039785083]\n",
            "[0.8243222292884902, 0.4396315381335855, 0.7598055893175086, 0.3336028242304908, 0.5101386923990967, 0.30723320941131693, 0.8583800463842644, 0.00590660858571207, 0.2387984826647655]\n",
            "nan\n"
          ],
          "name": "stdout"
        },
        {
          "output_type": "stream",
          "text": [
            "\r 44%|████▍     | 28/64 [00:16<00:21,  1.71it/s]"
          ],
          "name": "stderr"
        },
        {
          "output_type": "stream",
          "text": [
            "{'x1': 0.0, 'x2': 16.842105865478516}\n",
            "[0.09110592424172448]\n",
            "[0.5709103730919483, 0.021428445584957434, 0.3056989889688463, 0.0015471644341463753, 0.0681411017579232, 0.31555925606186486, 0.07189174147143917, 0.13134816713954184, 0.8698498637694294]\n",
            "nan\n"
          ],
          "name": "stdout"
        },
        {
          "output_type": "stream",
          "text": [
            "\r 45%|████▌     | 29/64 [00:16<00:20,  1.71it/s]"
          ],
          "name": "stderr"
        },
        {
          "output_type": "stream",
          "text": [
            "{'x1': 2.6315789222717285, 'x2': 24.736841201782227}\n",
            "[0.2758919015597166, 0.9826752293856238, 0.4069699214344188, 0.35623731593441177]\n",
            "[0.2010864778473011, 0.3153787701213018, 0.8818400941650768, 0.39733109223868807, 0.3295154867995211, 0.2257388772695771]\n",
            "0.5467806142379155\n"
          ],
          "name": "stdout"
        },
        {
          "output_type": "stream",
          "text": [
            "\r 47%|████▋     | 30/64 [00:17<00:20,  1.66it/s]"
          ],
          "name": "stderr"
        },
        {
          "output_type": "stream",
          "text": [
            "{'x1': 2.6315789222717285, 'x2': 24.736841201782227}\n",
            "[0.9612006500158052, 0.6371264533880879, 0.2729431843924012, 0.48860657462167145]\n",
            "[0.7245749559112441, 0.25876366412936086, 0.8214094825927412, 0.15703734836252303, 0.40012087486074543, 0.528896512009745]\n",
            "0.5540836943849894\n"
          ],
          "name": "stdout"
        },
        {
          "output_type": "stream",
          "text": [
            "\r 48%|████▊     | 31/64 [00:17<00:19,  1.69it/s]"
          ],
          "name": "stderr"
        },
        {
          "output_type": "stream",
          "text": [
            "{'x1': 2.6315789222717285, 'x2': 24.736841201782227}\n",
            "[0.5356791017545607, 0.0028503929904336034, 0.3383021791910826, 0.14491904167665487]\n",
            "[0.6167139733358605, 0.17367242805464078, 0.7371267743448116, 0.1730551656727526, 0.46818532225241843, 0.5464767839196115]\n",
            "0.22639399441986957\n"
          ],
          "name": "stdout"
        },
        {
          "output_type": "stream",
          "text": [
            "\r 50%|█████     | 32/64 [00:18<00:18,  1.71it/s]"
          ],
          "name": "stderr"
        },
        {
          "output_type": "stream",
          "text": [
            "{'x1': 2.6315789222717285, 'x2': 24.736841201782227}\n",
            "[0.7281409157112062, 0.43997753187623223, 0.996083562689183, 0.5652862228491582]\n",
            "[0.7014403842130948, 0.8748174885777813, 0.21812915035044483, 0.4293410241681886, 0.5898292654102523, 0.6737510055895126]\n",
            "0.5215029501254486\n"
          ],
          "name": "stdout"
        },
        {
          "output_type": "stream",
          "text": [
            "\r 52%|█████▏    | 33/64 [00:19<00:17,  1.77it/s]"
          ],
          "name": "stderr"
        },
        {
          "output_type": "stream",
          "text": [
            "{'x1': 2.6315789222717285, 'x2': 24.736841201782227}\n",
            "[0.3042225509856338, 0.08050507231318682, 0.7297158425482289, 0.5137453653924138]\n",
            "[0.530892506001226, 0.42033027380765636, 0.3962196882843752, 0.7621374425751184, 0.7162872670314999, 0.16506101915351706]\n",
            "0.5783529492507602\n"
          ],
          "name": "stdout"
        },
        {
          "output_type": "stream",
          "text": [
            "\r 53%|█████▎    | 34/64 [00:19<00:16,  1.81it/s]"
          ],
          "name": "stderr"
        },
        {
          "output_type": "stream",
          "text": [
            "{'x1': 2.6315789222717285, 'x2': 24.736841201782227}\n",
            "[0.7363609454857503, 0.161597242876302, 0.2453046496722393, 0.6001487695864456]\n",
            "[0.3521255031122887, 0.6433578371475901, 0.6731084647568941, 0.35963198152052717, 0.729331726269276, 0.3133087638932507]\n",
            "0.6162287250765506\n"
          ],
          "name": "stdout"
        },
        {
          "output_type": "stream",
          "text": [
            "\r 55%|█████▍    | 35/64 [00:20<00:15,  1.83it/s]"
          ],
          "name": "stderr"
        },
        {
          "output_type": "stream",
          "text": [
            "{'x1': 5.263157844543457, 'x2': 30.0}\n",
            "[0.5296219372391024, 0.6530827934419491, 0.8236111609236165, 0.5457874270279781, 0.1664464834905836, 0.3365867518857045, 0.447473375039297, 0.0733876780023962]\n",
            "[0.9840468842948966, 0.46178117869489294]\n",
            "0.22653363805438603\n"
          ],
          "name": "stdout"
        },
        {
          "output_type": "stream",
          "text": [
            "\r 56%|█████▋    | 36/64 [00:20<00:15,  1.84it/s]"
          ],
          "name": "stderr"
        },
        {
          "output_type": "stream",
          "text": [
            "{'x1': 0.0, 'x2': 16.842105865478516}\n",
            "[0.9025318240519127]\n",
            "[0.612753832931937, 0.22715158798237572, 0.37360836368993633, 0.9674701871917558, 0.7675197636130766, 0.6824024639764228, 0.8371455569377845, 0.04913711634124934, 0.27433750432598897]\n",
            "nan\n"
          ],
          "name": "stdout"
        },
        {
          "output_type": "stream",
          "text": [
            "\r 58%|█████▊    | 37/64 [00:21<00:14,  1.87it/s]"
          ],
          "name": "stderr"
        },
        {
          "output_type": "stream",
          "text": [
            "{'x1': 2.6315789222717285, 'x2': 24.736841201782227}\n",
            "[0.5895686865488036, 0.44108076211054553, 0.9150659419682081, 0.4040871197179063]\n",
            "[0.446103590521941, 0.7129107946673849, 0.18486657724078953, 0.39275184214762865, 0.7746648231181115, 0.07871031258246897]\n",
            "0.382754372732828\n"
          ],
          "name": "stdout"
        },
        {
          "output_type": "stream",
          "text": [
            "\r 59%|█████▉    | 38/64 [00:21<00:13,  1.88it/s]"
          ],
          "name": "stderr"
        },
        {
          "output_type": "stream",
          "text": [
            "{'x1': 2.6315789222717285, 'x2': 24.736841201782227}\n",
            "[0.29718099368685513, 0.17184924227343906, 0.3312381379046652, 0.43413248201328075]\n",
            "[0.016014934574951456, 0.944317605944079, 0.14417454010376984, 0.2750931004623125, 0.4279947435736182, 0.7496256410058393]\n",
            "0.5490858691653879\n"
          ],
          "name": "stdout"
        },
        {
          "output_type": "stream",
          "text": [
            "\r 61%|██████    | 39/64 [00:22<00:13,  1.89it/s]"
          ],
          "name": "stderr"
        },
        {
          "output_type": "stream",
          "text": [
            "{'x1': 2.6315789222717285, 'x2': 24.736841201782227}\n",
            "[0.4853775708108212, 0.7896949655413532, 0.6457833055762758, 0.4298351419334898]\n",
            "[0.8867201422310191, 0.47838056080175523, 0.381495923752409, 0.6939117186455963, 0.7674229038274805, 0.34759969962288395]\n",
            "0.9707655629272625\n"
          ],
          "name": "stdout"
        },
        {
          "output_type": "stream",
          "text": [
            "\r 62%|██████▎   | 40/64 [00:22<00:12,  1.89it/s]"
          ],
          "name": "stderr"
        },
        {
          "output_type": "stream",
          "text": [
            "{'x1': 2.6315789222717285, 'x2': 24.736841201782227}\n",
            "[0.8942365355352633, 0.7832250645028227, 0.5374374983653356, 0.23279181222699363]\n",
            "[0.11528780479177952, 0.572257804284572, 0.4585065265987337, 0.7780205219075955, 0.6206334150229137, 0.9430487808190829]\n",
            "0.8730475528361378\n"
          ],
          "name": "stdout"
        },
        {
          "output_type": "stream",
          "text": [
            "\r 64%|██████▍   | 41/64 [00:23<00:12,  1.89it/s]"
          ],
          "name": "stderr"
        },
        {
          "output_type": "stream",
          "text": [
            "{'x1': 0.0, 'x2': 16.842105865478516}\n",
            "[0.5899068899841027]\n",
            "[0.9791042916052418, 0.85226016854099, 0.04017687912179735, 0.04835249254310159, 0.05213906046497141, 0.538303316802401, 0.5830515070510282, 0.11649807364543746, 0.7849680823765508]\n",
            "nan\n"
          ],
          "name": "stdout"
        },
        {
          "output_type": "stream",
          "text": [
            "\r 66%|██████▌   | 42/64 [00:23<00:11,  1.89it/s]"
          ],
          "name": "stderr"
        },
        {
          "output_type": "stream",
          "text": [
            "{'x1': 5.263157844543457, 'x2': 30.0}\n",
            "[0.10548888751713231, 0.6028967626461186, 0.07695363271648048, 0.7062166088240391, 0.38347158354500305, 0.10115275910019272, 0.14078409060571906, 0.6783608620876244]\n",
            "[0.3953364717340354, 0.43851363450137154]\n",
            "0.7510035481609638\n"
          ],
          "name": "stdout"
        },
        {
          "output_type": "stream",
          "text": [
            "\r 67%|██████▋   | 43/64 [00:24<00:11,  1.89it/s]"
          ],
          "name": "stderr"
        },
        {
          "output_type": "stream",
          "text": [
            "{'x1': 5.263157844543457, 'x2': 30.0}\n",
            "[0.1627293217089898, 0.06772166807234131, 0.6861452486149999, 0.8904480627955891, 0.4894739533002408, 0.2863342293059232, 0.49089705250338717, 0.3027490888505102]\n",
            "[0.41007807147576103, 0.3077029131629398]\n",
            "0.7639635484303855\n"
          ],
          "name": "stdout"
        },
        {
          "output_type": "stream",
          "text": [
            "\r 69%|██████▉   | 44/64 [00:24<00:10,  1.89it/s]"
          ],
          "name": "stderr"
        },
        {
          "output_type": "stream",
          "text": [
            "{'x1': 10.526315689086914, 'x2': 30.0}\n",
            "[0.5003952185976999, 0.3704385787615017, 0.5732926074790794, 0.5242349429651691, 0.31424346955056537, 0.6654658311037585, 0.6997126958050581, 0.542449859222721, 0.3576776386854126]\n",
            "[0.1400041831763637]\n",
            "nan\n"
          ],
          "name": "stdout"
        },
        {
          "output_type": "stream",
          "text": [
            "\r 70%|███████   | 45/64 [00:25<00:09,  1.90it/s]"
          ],
          "name": "stderr"
        },
        {
          "output_type": "stream",
          "text": [
            "{'x1': 5.263157844543457, 'x2': 30.0}\n",
            "[0.7279980070660972, 0.48922627994747825, 0.18145377392922185, 0.19285173286479657, 0.3894057565965875, 0.11559474718956225, 0.9262283871491704, 0.6264738626819193]\n",
            "[0.3331265534222095, 0.882352847677291]\n",
            "0.5462567260771003\n"
          ],
          "name": "stdout"
        },
        {
          "output_type": "stream",
          "text": [
            "\r 72%|███████▏  | 46/64 [00:25<00:09,  1.91it/s]"
          ],
          "name": "stderr"
        },
        {
          "output_type": "stream",
          "text": [
            "{'x1': 10.526315689086914, 'x2': 30.0}\n",
            "[0.5118440268502665, 0.7259162383104076, 0.8679652617971276, 0.46838481902056317, 0.5423918126821315, 0.8664991921357676, 0.8172256017581183, 0.6492766093634161, 0.16428419881299816]\n",
            "[0.431408388865799]\n",
            "nan\n"
          ],
          "name": "stdout"
        },
        {
          "output_type": "stream",
          "text": [
            "\r 73%|███████▎  | 47/64 [00:26<00:08,  1.92it/s]"
          ],
          "name": "stderr"
        },
        {
          "output_type": "stream",
          "text": [
            "{'x1': 5.263157844543457, 'x2': 30.0}\n",
            "[0.5110567634547422, 0.07363209146763533, 0.21208242249379822, 0.07223852049566787, 0.2949084473212328, 0.9697219220069582, 0.636916174691371, 0.1960724311967718]\n",
            "[0.8588421865122613, 0.5877460644580628]\n",
            "0.17684940844278962\n"
          ],
          "name": "stdout"
        },
        {
          "output_type": "stream",
          "text": [
            "\r 75%|███████▌  | 48/64 [00:26<00:08,  1.92it/s]"
          ],
          "name": "stderr"
        },
        {
          "output_type": "stream",
          "text": [
            "{'x1': 5.263157844543457, 'x2': 30.0}\n",
            "[0.714488727776766, 0.4675432837018964, 0.677583271878919, 0.7346663483006515, 0.5201205892392126, 0.2640493157113417, 0.378469440739691, 0.6413091953189094]\n",
            "[0.2121990260966254, 0.6941061467350579]\n",
            "0.558545921590161\n"
          ],
          "name": "stdout"
        },
        {
          "output_type": "stream",
          "text": [
            "\r 77%|███████▋  | 49/64 [00:27<00:07,  1.91it/s]"
          ],
          "name": "stderr"
        },
        {
          "output_type": "stream",
          "text": [
            "{'x1': 5.263157844543457, 'x2': 30.0}\n",
            "[0.11510076739250141, 0.3104526294749891, 0.5236108474876288, 0.5665700102169624, 0.10143228588421088, 0.5189187366720828, 0.928544377643381, 0.3216091554493621]\n",
            "[0.9308788107644679, 0.5215726658776497]\n",
            "0.19944153847067686\n"
          ],
          "name": "stdout"
        },
        {
          "output_type": "stream",
          "text": [
            "\r 78%|███████▊  | 50/64 [00:27<00:07,  1.91it/s]"
          ],
          "name": "stderr"
        },
        {
          "output_type": "stream",
          "text": [
            "{'x1': 5.263157844543457, 'x2': 30.0}\n",
            "[0.26185652235890444, 0.881334463262393, 0.9191712660128011, 0.54668598192216, 0.8588312003256584, 0.4603956927200681, 0.7301743856157764, 0.7869375922795052]\n",
            "[0.9535776697825303, 0.3367110639435068]\n",
            "0.8710085044432898\n"
          ],
          "name": "stdout"
        },
        {
          "output_type": "stream",
          "text": [
            "\r 80%|███████▉  | 51/64 [00:28<00:06,  1.91it/s]"
          ],
          "name": "stderr"
        },
        {
          "output_type": "stream",
          "text": [
            "{'x1': 5.263157844543457, 'x2': 30.0}\n",
            "[0.310375560323515, 0.9311076789667192, 0.645074017649235, 0.9210440565625442, 0.5076214990451519, 0.03094832741037662, 0.4268240684138532, 0.7887652694444669]\n",
            "[0.2576127709362785, 0.17379399298179854]\n",
            "0.16611102742313416\n"
          ],
          "name": "stdout"
        },
        {
          "output_type": "stream",
          "text": [
            "\r 81%|████████▏ | 52/64 [00:29<00:06,  1.91it/s]"
          ],
          "name": "stderr"
        },
        {
          "output_type": "stream",
          "text": [
            "{'x1': 5.263157844543457, 'x2': 30.0}\n",
            "[0.2988578675560265, 0.6962184044804735, 0.8636461535733662, 0.8266350912102165, 0.2448967154433791, 0.434627160208473, 0.23019973517509362, 0.876231011292995]\n",
            "[0.7452127421246808, 0.437914716109129]\n",
            "0.8858315850402014\n"
          ],
          "name": "stdout"
        },
        {
          "output_type": "stream",
          "text": [
            "\r 83%|████████▎ | 53/64 [00:29<00:05,  1.92it/s]"
          ],
          "name": "stderr"
        },
        {
          "output_type": "stream",
          "text": [
            "{'x1': 5.263157844543457, 'x2': 30.0}\n",
            "[0.7001695390753356, 0.3900069832739913, 0.9985058027202778, 0.811332226717753, 0.5464022135144527, 0.16699319706637972, 0.7331059525494925, 0.7899199854770076]\n",
            "[0.7319536143807235, 0.1076918293025822]\n",
            "0.36401328755588924\n"
          ],
          "name": "stdout"
        },
        {
          "output_type": "stream",
          "text": [
            "\r 84%|████████▍ | 54/64 [00:30<00:05,  1.92it/s]"
          ],
          "name": "stderr"
        },
        {
          "output_type": "stream",
          "text": [
            "{'x1': 0.0, 'x2': 16.842105865478516}\n",
            "[0.9135838170488759]\n",
            "[0.45919478248718537, 0.31009157160540674, 0.8212781218146872, 0.4921256964109552, 0.6949693842262749, 0.4390762501682125, 0.3917455457337227, 0.5854844634882339, 0.41998952631144315]\n",
            "nan\n"
          ],
          "name": "stdout"
        },
        {
          "output_type": "stream",
          "text": [
            "\r 86%|████████▌ | 55/64 [00:30<00:04,  1.92it/s]"
          ],
          "name": "stderr"
        },
        {
          "output_type": "stream",
          "text": [
            "{'x1': 0.0, 'x2': 16.842105865478516}\n",
            "[0.9498116265128409]\n",
            "[0.6488841120523519, 0.8144637515202593, 0.7892768929520979, 0.4908404829318505, 0.15786304181475175, 0.9009305815870807, 0.5393268194659325, 0.707166263218885, 0.6839336192913901]\n",
            "nan\n"
          ],
          "name": "stdout"
        },
        {
          "output_type": "stream",
          "text": [
            "\r 88%|████████▊ | 56/64 [00:31<00:04,  1.92it/s]"
          ],
          "name": "stderr"
        },
        {
          "output_type": "stream",
          "text": [
            "{'x1': 0.0, 'x2': 16.842105865478516}\n",
            "[0.43337485965716843]\n",
            "[0.4544216922692925, 0.49804175947312657, 0.6696357528060382, 0.9802055702564729, 0.38640007631228285, 0.833868474769617, 0.827434509874651, 0.6227635142857159, 0.8299298292933763]\n",
            "nan\n"
          ],
          "name": "stdout"
        },
        {
          "output_type": "stream",
          "text": [
            "\r 89%|████████▉ | 57/64 [00:31<00:03,  1.92it/s]"
          ],
          "name": "stderr"
        },
        {
          "output_type": "stream",
          "text": [
            "{'x1': 5.263157844543457, 'x2': 30.0}\n",
            "[0.7958840878270549, 0.3633709792110805, 0.6684286179002056, 0.2502893823802672, 0.8111939761104187, 0.8186787772450268, 0.09902131564129218, 0.8560708873882223]\n",
            "[0.7148137735369016, 0.9393537126244251]\n",
            "0.31116449852302\n"
          ],
          "name": "stdout"
        },
        {
          "output_type": "stream",
          "text": [
            "\r 91%|█████████ | 58/64 [00:32<00:03,  1.92it/s]"
          ],
          "name": "stderr"
        },
        {
          "output_type": "stream",
          "text": [
            "{'x1': 2.6315789222717285, 'x2': 24.736841201782227}\n",
            "[0.36593915247718467, 0.6578465989525527, 0.6039913218755146, 0.6738132738780143]\n",
            "[0.5243563762052902, 0.6571825008033485, 0.15925562261855675, 0.8106742820891006, 0.6571323031357463, 0.3013679756039909]\n",
            "0.6882986051992923\n"
          ],
          "name": "stdout"
        },
        {
          "output_type": "stream",
          "text": [
            "\r 92%|█████████▏| 59/64 [00:32<00:02,  1.92it/s]"
          ],
          "name": "stderr"
        },
        {
          "output_type": "stream",
          "text": [
            "{'x1': 0.0, 'x2': 16.842105865478516}\n",
            "[0.059310975281688605]\n",
            "[0.6264117123117128, 0.7647760578866997, 0.878467366429492, 0.3847580015963672, 0.37220738996823866, 0.9784834013308981, 0.5386886218609326, 0.779578709469668, 0.7704614840778754]\n",
            "nan\n"
          ],
          "name": "stdout"
        },
        {
          "output_type": "stream",
          "text": [
            "\r 94%|█████████▍| 60/64 [00:33<00:02,  1.91it/s]"
          ],
          "name": "stderr"
        },
        {
          "output_type": "stream",
          "text": [
            "{'x1': 2.6315789222717285, 'x2': 24.736841201782227}\n",
            "[0.7047885923503618, 0.03994061735238047, 0.6004229446315269, 0.4617322801444397]\n",
            "[0.8945413594353049, 0.44191661655893255, 0.6422230653804791, 0.38936137508839674, 0.46067936306386503, 0.9606453092501741]\n",
            "0.32195594142282097\n"
          ],
          "name": "stdout"
        },
        {
          "output_type": "stream",
          "text": [
            "\r 95%|█████████▌| 61/64 [00:33<00:01,  1.92it/s]"
          ],
          "name": "stderr"
        },
        {
          "output_type": "stream",
          "text": [
            "{'x1': 2.6315789222717285, 'x2': 24.736841201782227}\n",
            "[0.5729172740644447, 0.5354365106144082, 0.45142556459147953, 0.9741116334043676]\n",
            "[0.6860534920392184, 0.03645957452709564, 0.2720602328164942, 0.505438989610617, 0.8943666549732476, 0.2699908106284876]\n",
            "0.334639967401207\n"
          ],
          "name": "stdout"
        },
        {
          "output_type": "stream",
          "text": [
            "\r 97%|█████████▋| 62/64 [00:34<00:01,  1.92it/s]"
          ],
          "name": "stderr"
        },
        {
          "output_type": "stream",
          "text": [
            "{'x1': 2.6315789222717285, 'x2': 24.736841201782227}\n",
            "[0.6782991577353263, 0.9598703058350577, 0.11831718003017094, 0.848285187402199]\n",
            "[0.421594402188874, 0.9178761816245524, 0.18178204183283003, 0.8079472764168922, 0.28488742973839654, 0.39203576435670506]\n",
            "0.49657277405325384\n"
          ],
          "name": "stdout"
        },
        {
          "output_type": "stream",
          "text": [
            "\r 98%|█████████▊| 63/64 [00:34<00:00,  1.90it/s]"
          ],
          "name": "stderr"
        },
        {
          "output_type": "stream",
          "text": [
            "{'x1': 2.6315789222717285, 'x2': 24.736841201782227}\n",
            "[0.6479739842024256, 0.08457894951353473, 0.9023210412994753, 0.7684618031460885]\n",
            "[0.4792345529449748, 0.5156126599201232, 0.6224013299110454, 0.26401360201311364, 0.8340218388128592, 0.6827014744626805]\n",
            "0.8472866582594852\n"
          ],
          "name": "stdout"
        },
        {
          "output_type": "stream",
          "text": [
            "100%|██████████| 64/64 [00:35<00:00,  1.81it/s]\n"
          ],
          "name": "stderr"
        }
      ]
    },
    {
      "cell_type": "code",
      "metadata": {
        "id": "2B4giQjuIrhw",
        "colab": {
          "base_uri": "https://localhost:8080/"
        },
        "outputId": "e8fcbba4-4a16-473b-8360-3c0a1ed47fa5"
      },
      "source": [
        "optimal_biomarkers = engine.get_design()\n",
        " \n",
        "print(optimal_biomarkers)\n",
        "print(len(patients))\n",
        "print(engine.post_mean)\n",
        "i = 0 \n",
        "for patient in patients:\n",
        "  comb = patient['biomarkers']['x1'] + patient['biomarkers']['x2']\n",
        "  if comb > optimal_biomarkers['x2'] + optimal_biomarkers['x1']:\n",
        "    i += 1 \n",
        "    print(i)"
      ],
      "execution_count": null,
      "outputs": [
        {
          "output_type": "stream",
          "text": [
            "{'x1': 2.6315789222717285, 'x2': 24.736841201782227}\n",
            "10\n",
            "b0   -4.433045\n",
            "b1   -0.789251\n",
            "b2    0.263158\n",
            "Name: Posterior mean, dtype: float32\n",
            "1\n",
            "2\n",
            "3\n",
            "4\n",
            "5\n",
            "6\n"
          ],
          "name": "stdout"
        }
      ]
    }
  ]
}